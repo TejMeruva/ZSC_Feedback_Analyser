{
 "cells": [
  {
   "cell_type": "markdown",
   "id": "917572fc",
   "metadata": {},
   "source": [
    "# CodeBotix: EDA"
   ]
  },
  {
   "cell_type": "markdown",
   "id": "6ed2ed7b",
   "metadata": {},
   "source": [
    "## Importing the Libraries"
   ]
  },
  {
   "cell_type": "code",
   "execution_count": 1,
   "id": "1f4e234e",
   "metadata": {},
   "outputs": [
    {
     "data": {
      "text/plain": [
       "<Figure size 4000x1600 with 0 Axes>"
      ]
     },
     "execution_count": 1,
     "metadata": {},
     "output_type": "execute_result"
    },
    {
     "data": {
      "text/plain": [
       "<Figure size 4000x1600 with 0 Axes>"
      ]
     },
     "metadata": {},
     "output_type": "display_data"
    }
   ],
   "source": [
    "import pandas as pd\n",
    "pd.set_option('display.max_columns', None)\n",
    "pd.set_option('display.max_rows', None)\n",
    "import numpy as np\n",
    "import matplotlib.pyplot as plt\n",
    "plt.style.use(\"dark_background\")\n",
    "import seaborn as sns\n",
    "\n",
    "plt.rcParams['font.family'] = 'SF Mono'\n",
    "plt.rcParams['font.size'] = 20\n",
    "plt.figure(figsize=(40, 16))   # options: 'serif', 'sans-serif', 'monospace'"
   ]
  },
  {
   "cell_type": "markdown",
   "id": "2a0b451f",
   "metadata": {},
   "source": [
    "## Getting the Data"
   ]
  },
  {
   "cell_type": "code",
   "execution_count": 5,
   "id": "d2f8f1ca",
   "metadata": {},
   "outputs": [
    {
     "data": {
      "text/html": [
       "<div>\n",
       "<style scoped>\n",
       "    .dataframe tbody tr th:only-of-type {\n",
       "        vertical-align: middle;\n",
       "    }\n",
       "\n",
       "    .dataframe tbody tr th {\n",
       "        vertical-align: top;\n",
       "    }\n",
       "\n",
       "    .dataframe thead th {\n",
       "        text-align: right;\n",
       "    }\n",
       "</style>\n",
       "<table border=\"1\" class=\"dataframe\">\n",
       "  <thead>\n",
       "    <tr style=\"text-align: right;\">\n",
       "      <th></th>\n",
       "      <th>name</th>\n",
       "      <th>gender</th>\n",
       "      <th>class</th>\n",
       "      <th>mode</th>\n",
       "      <th>workshop_name</th>\n",
       "      <th>workshop_duration</th>\n",
       "      <th>interest_before</th>\n",
       "      <th>interest_after</th>\n",
       "      <th>highlights</th>\n",
       "      <th>suggestions</th>\n",
       "      <th>satisfaction</th>\n",
       "      <th>expectations</th>\n",
       "      <th>prior_experience</th>\n",
       "      <th>knowledge_gain</th>\n",
       "    </tr>\n",
       "  </thead>\n",
       "  <tbody>\n",
       "    <tr>\n",
       "      <th>0</th>\n",
       "      <td>Akshita Edith</td>\n",
       "      <td>female</td>\n",
       "      <td>10th</td>\n",
       "      <td>Online</td>\n",
       "      <td>1 hour Online intro to Robotics workshop-pilot</td>\n",
       "      <td>1 hour</td>\n",
       "      <td>0.928610</td>\n",
       "      <td>NaN</td>\n",
       "      <td>NaN</td>\n",
       "      <td>NaN</td>\n",
       "      <td>NaN</td>\n",
       "      <td>To learn new things</td>\n",
       "      <td>0.900789</td>\n",
       "      <td>NaN</td>\n",
       "    </tr>\n",
       "    <tr>\n",
       "      <th>1</th>\n",
       "      <td>Gladys B</td>\n",
       "      <td>male</td>\n",
       "      <td>10th</td>\n",
       "      <td>Online</td>\n",
       "      <td>1 hour Online intro to Robotics workshop-pilot</td>\n",
       "      <td>1 hour</td>\n",
       "      <td>0.934968</td>\n",
       "      <td>NaN</td>\n",
       "      <td>NaN</td>\n",
       "      <td>NaN</td>\n",
       "      <td>NaN</td>\n",
       "      <td>Learning something that might help me in the f...</td>\n",
       "      <td>0.885160</td>\n",
       "      <td>NaN</td>\n",
       "    </tr>\n",
       "    <tr>\n",
       "      <th>2</th>\n",
       "      <td>R.p manirathan</td>\n",
       "      <td>male</td>\n",
       "      <td>12th</td>\n",
       "      <td>Online</td>\n",
       "      <td>1 hour Online intro to Robotics workshop-pilot</td>\n",
       "      <td>1 hour</td>\n",
       "      <td>0.665015</td>\n",
       "      <td>NaN</td>\n",
       "      <td>NaN</td>\n",
       "      <td>NaN</td>\n",
       "      <td>NaN</td>\n",
       "      <td>Gaining Knowledge about robotics</td>\n",
       "      <td>0.804458</td>\n",
       "      <td>NaN</td>\n",
       "    </tr>\n",
       "  </tbody>\n",
       "</table>\n",
       "</div>"
      ],
      "text/plain": [
       "              name  gender class    mode  \\\n",
       "0   Akshita Edith   female  10th  Online   \n",
       "1         Gladys B    male  10th  Online   \n",
       "2  R.p manirathan     male  12th  Online   \n",
       "\n",
       "                                    workshop_name workshop_duration  \\\n",
       "0  1 hour Online intro to Robotics workshop-pilot            1 hour   \n",
       "1  1 hour Online intro to Robotics workshop-pilot            1 hour   \n",
       "2  1 hour Online intro to Robotics workshop-pilot            1 hour   \n",
       "\n",
       "   interest_before  interest_after highlights suggestions  satisfaction  \\\n",
       "0         0.928610             NaN        NaN         NaN           NaN   \n",
       "1         0.934968             NaN        NaN         NaN           NaN   \n",
       "2         0.665015             NaN        NaN         NaN           NaN   \n",
       "\n",
       "                                        expectations  prior_experience  \\\n",
       "0                               To learn new things           0.900789   \n",
       "1  Learning something that might help me in the f...          0.885160   \n",
       "2                  Gaining Knowledge about robotics           0.804458   \n",
       "\n",
       "   knowledge_gain  \n",
       "0             NaN  \n",
       "1             NaN  \n",
       "2             NaN  "
      ]
     },
     "execution_count": 5,
     "metadata": {},
     "output_type": "execute_result"
    }
   ],
   "source": [
    "data = pd.read_csv('CodeBotixMaster.csv')\n",
    "data.head(3)"
   ]
  },
  {
   "cell_type": "markdown",
   "id": "b1cb6605",
   "metadata": {},
   "source": [
    "## Pre Processing"
   ]
  },
  {
   "cell_type": "markdown",
   "id": "b4c3626b",
   "metadata": {},
   "source": [
    "#### gender"
   ]
  },
  {
   "cell_type": "code",
   "execution_count": 6,
   "id": "17758252",
   "metadata": {},
   "outputs": [
    {
     "data": {
      "text/plain": [
       "array(['female', 'male'], dtype=object)"
      ]
     },
     "execution_count": 6,
     "metadata": {},
     "output_type": "execute_result"
    }
   ],
   "source": [
    "data.loc[:, 'gender'] = data['gender'].str.lower()\n",
    "data.gender.unique()"
   ]
  },
  {
   "cell_type": "markdown",
   "id": "8189c352",
   "metadata": {},
   "source": [
    "#### class"
   ]
  },
  {
   "cell_type": "code",
   "execution_count": 7,
   "id": "25da5a2c",
   "metadata": {},
   "outputs": [
    {
     "data": {
      "text/plain": [
       "array(['10th', '12th', '6th', '9th', '8th', '7th', 'nan', 'university',\n",
       "       '11th'], dtype=object)"
      ]
     },
     "execution_count": 7,
     "metadata": {},
     "output_type": "execute_result"
    }
   ],
   "source": [
    "data.loc[:, 'class'] = data['class'].apply(lambda x: '9th' if (('IX' in str(x)) \\\n",
    "                                                               or ('9' in str(x)) \\\n",
    "                                                                 or ('x' in str(x))) \\\n",
    "                                                                    else str(x))\n",
    "data['class'].unique()"
   ]
  },
  {
   "cell_type": "code",
   "execution_count": 8,
   "id": "79c988e0",
   "metadata": {},
   "outputs": [
    {
     "data": {
      "text/plain": [
       "0                  name\n",
       "1                gender\n",
       "2                 class\n",
       "3                  mode\n",
       "4         workshop_name\n",
       "5     workshop_duration\n",
       "6       interest_before\n",
       "7        interest_after\n",
       "8            highlights\n",
       "9           suggestions\n",
       "10         satisfaction\n",
       "11         expectations\n",
       "12     prior_experience\n",
       "13       knowledge_gain\n",
       "dtype: object"
      ]
     },
     "execution_count": 8,
     "metadata": {},
     "output_type": "execute_result"
    }
   ],
   "source": [
    "pd.Series(data.columns)"
   ]
  },
  {
   "cell_type": "code",
   "execution_count": 9,
   "id": "e3829432",
   "metadata": {},
   "outputs": [
    {
     "name": "stdout",
     "output_type": "stream",
     "text": [
      "name\n",
      "gender\n",
      "class\n",
      "mode\n",
      "workshop_name\n",
      "workshop_duration\n",
      "interest_before\n",
      "interest_after\n",
      "highlights\n",
      "suggestions\n",
      "satisfaction\n",
      "expectations\n",
      "prior_experience\n",
      "knowledge_gain\n"
     ]
    }
   ],
   "source": [
    "for col in data.columns:\n",
    "    print(col)"
   ]
  },
  {
   "cell_type": "markdown",
   "id": "a6539554",
   "metadata": {},
   "source": [
    "## EDA"
   ]
  },
  {
   "cell_type": "code",
   "execution_count": 11,
   "id": "24009d7e",
   "metadata": {},
   "outputs": [],
   "source": [
    "data.to_csv('CodeBotix_All_Workshops_Complied_Interpreted_Data.csv', index=False)"
   ]
  },
  {
   "cell_type": "code",
   "execution_count": null,
   "id": "8093bf39",
   "metadata": {},
   "outputs": [
    {
     "data": {
      "image/png": "[encoded data removed]",
      "text/plain": [
       "<Figure size 640x480 with 1 Axes>"
      ]
     },
     "metadata": {},
     "output_type": "display_data"
    }
   ],
   "source": [
    "fig, ax = plt.subplots()"
   ]
  },
  {
   "cell_type": "markdown",
   "id": "1b5f4d03",
   "metadata": {},
   "source": [
    "#### Interest Before v/s Gender"
   ]
  },
  {
   "cell_type": "code",
   "execution_count": null,
   "id": "fe4c6b37",
   "metadata": {},
   "outputs": [],
   "source": [
    "data.query('gender == \"female\"')['interest_before']\n",
    "sns.set_palette([\"#d6ff3f\"]) "
   ]
  },
  {
   "cell_type": "code",
   "execution_count": null,
   "id": "f4f6777b",
   "metadata": {},
   "outputs": [
    {
     "data": {
      "text/plain": [
       "Text(39.66666666666667, 0.5, '')"
      ]
     },
     "execution_count": 91,
     "metadata": {},
     "output_type": "execute_result"
    }
   ],
   "source": [
    "sns.boxplot(x='gender', y='interest_before', data=data, ax=ax, color=\"#d6ff3f\")\n",
    "ax.set_xlabel('')\n",
    "ax.set_ylabel('')"
   ]
  },
  {
   "cell_type": "code",
   "execution_count": 92,
   "id": "0b2c3991",
   "metadata": {},
   "outputs": [],
   "source": [
    "fig.savefig('InterestBeforeByGender.png', dpi=300, transparent=True)"
   ]
  },
  {
   "cell_type": "code",
   "execution_count": 93,
   "id": "b6229139",
   "metadata": {},
   "outputs": [
    {
     "data": {
      "text/plain": [
       "np.int64(116)"
      ]
     },
     "execution_count": 93,
     "metadata": {},
     "output_type": "execute_result"
    }
   ],
   "source": [
    "data[~data['interest_before'].isna()]\\\n",
    "    .query('gender == \"female\"')['interest_before'].count()"
   ]
  },
  {
   "cell_type": "markdown",
   "id": "77d26a20",
   "metadata": {},
   "source": [
    "#### Interest Change"
   ]
  },
  {
   "cell_type": "code",
   "execution_count": 94,
   "id": "93ac11f6",
   "metadata": {},
   "outputs": [],
   "source": [
    "dataWithInterestVals = data[(~data['interest_before'].isna()) & (~data['interest_after'].isna())]"
   ]
  },
  {
   "cell_type": "code",
   "execution_count": 95,
   "id": "723ebec3",
   "metadata": {},
   "outputs": [
    {
     "data": {
      "text/plain": [
       "increased    92.638037\n",
       "decreased     7.361963\n",
       "Name: Count of Interest Change, dtype: float64"
      ]
     },
     "execution_count": 95,
     "metadata": {},
     "output_type": "execute_result"
    }
   ],
   "source": [
    "interestChange = dataWithInterestVals.interest_after - dataWithInterestVals.interest_before\n",
    "(pd.Series([(interestChange > 0).sum(), (interestChange < 0).sum()], index=['increased', 'decreased'], name='Count of Interest Change')/dataWithInterestVals.shape[0]) * 100"
   ]
  },
  {
   "cell_type": "code",
   "execution_count": 96,
   "id": "78d4bc7a",
   "metadata": {},
   "outputs": [
    {
     "data": {
      "text/plain": [
       "np.float64(1.5419802074579527)"
      ]
     },
     "execution_count": 96,
     "metadata": {},
     "output_type": "execute_result"
    }
   ],
   "source": [
    "(((dataWithInterestVals.interest_after - dataWithInterestVals.interest_before).div(dataWithInterestVals.interest_before))).mean()"
   ]
  },
  {
   "cell_type": "code",
   "execution_count": 99,
   "id": "04a468cb",
   "metadata": {},
   "outputs": [
    {
     "data": {
      "text/plain": [
       "Text(0.5, 0, '')"
      ]
     },
     "execution_count": 99,
     "metadata": {},
     "output_type": "execute_result"
    },
    {
     "data": {
      "image/png": "[encoded data removed]",
      "text/plain": [
       "<Figure size 640x480 with 1 Axes>"
      ]
     },
     "metadata": {},
     "output_type": "display_data"
    }
   ],
   "source": [
    "intBefore = dataWithInterestVals.interest_before.mean()\n",
    "intAfter = dataWithInterestVals.interest_after.mean()\n",
    "fig, axs = plt.subplots(1)\n",
    "axs = plt.bar(['before', 'after'], [intBefore, intAfter])\n",
    "plt.ylabel('')\n",
    "plt.xlabel('')"
   ]
  },
  {
   "cell_type": "code",
   "execution_count": 100,
   "id": "b30fea11",
   "metadata": {},
   "outputs": [],
   "source": [
    "fig.savefig('InterestChange.png', dpi=300, transparent=True, bbox_inches='tight')"
   ]
  },
  {
   "cell_type": "markdown",
   "id": "68c9296a",
   "metadata": {},
   "source": [
    "#### satisfaction v/s workshop type"
   ]
  },
  {
   "cell_type": "code",
   "execution_count": 180,
   "id": "2731b0dc",
   "metadata": {},
   "outputs": [
    {
     "data": {
      "image/png": "[encoded data removed]",
      "text/plain": [
       "<Figure size 640x480 with 1 Axes>"
      ]
     },
     "metadata": {},
     "output_type": "display_data"
    }
   ],
   "source": [
    "fig, ax = plt.subplots()\n",
    "data.groupby(['workshop_duration'])['satisfaction'].agg(['mean']).sort_values('mean', ascending=False).plot(kind='barh', xlabel='sqatisfaction_confidence', ax=ax)\n",
    "ax.set_xlabel('')\n",
    "ax.set_ylabel('')\n",
    "plt.legend().remove()"
   ]
  },
  {
   "cell_type": "code",
   "execution_count": 181,
   "id": "25d8fb78",
   "metadata": {},
   "outputs": [],
   "source": [
    "fig.savefig('SatisfactionByDuration.png', dpi=300, transparent=True, bbox_inches='tight')"
   ]
  },
  {
   "cell_type": "markdown",
   "id": "64be196b",
   "metadata": {},
   "source": [
    "#### Int Change v/s prior experience"
   ]
  },
  {
   "cell_type": "code",
   "execution_count": 104,
   "id": "fb8646e7",
   "metadata": {},
   "outputs": [],
   "source": [
    "dataWithPriorExp = data[(~data['prior_experience'].isna())]\n",
    "priorExpQ1 = np.quantile(dataWithPriorExp.prior_experience, 0.25)\n",
    "priorExpQ2 = np.quantile(dataWithPriorExp.prior_experience, 0.50)\n",
    "priorExpQ3 = np.quantile(dataWithPriorExp.prior_experience, 0.75)"
   ]
  },
  {
   "cell_type": "code",
   "execution_count": 105,
   "id": "b0c0032f",
   "metadata": {},
   "outputs": [],
   "source": [
    "priorExpBins = [dataWithPriorExp.prior_experience.min(), priorExpQ1, priorExpQ2, priorExpQ3, dataWithPriorExp.prior_experience.max()]"
   ]
  },
  {
   "cell_type": "code",
   "execution_count": 106,
   "id": "4efb710f",
   "metadata": {},
   "outputs": [
    {
     "name": "stderr",
     "output_type": "stream",
     "text": [
      "/var/folders/70/wm0y71k12s1ctjpf_x9qf5tw0000gp/T/ipykernel_96742/970358638.py:1: SettingWithCopyWarning: \n",
      "A value is trying to be set on a copy of a slice from a DataFrame.\n",
      "Try using .loc[row_indexer,col_indexer] = value instead\n",
      "\n",
      "See the caveats in the documentation: https://pandas.pydata.org/pandas-docs/stable/user_guide/indexing.html#returning-a-view-versus-a-copy\n",
      "  dataWithPriorExp.loc[:, '_interest_change'] = dataWithPriorExp.interest_after - dataWithPriorExp.interest_before\n",
      "/var/folders/70/wm0y71k12s1ctjpf_x9qf5tw0000gp/T/ipykernel_96742/970358638.py:2: SettingWithCopyWarning: \n",
      "A value is trying to be set on a copy of a slice from a DataFrame.\n",
      "Try using .loc[row_indexer,col_indexer] = value instead\n",
      "\n",
      "See the caveats in the documentation: https://pandas.pydata.org/pandas-docs/stable/user_guide/indexing.html#returning-a-view-versus-a-copy\n",
      "  dataWithPriorExp.loc[:, '_experience_category'] = pd.cut(dataWithPriorExp.prior_experience, bins=priorExpBins, labels=['very low', 'low', 'high', 'very high'])\n"
     ]
    }
   ],
   "source": [
    "dataWithPriorExp.loc[:, '_interest_change'] = dataWithPriorExp.interest_after - dataWithPriorExp.interest_before\n",
    "dataWithPriorExp.loc[:, '_experience_category'] = pd.cut(dataWithPriorExp.prior_experience, bins=priorExpBins, labels=['very low', 'low', 'high', 'very high'])"
   ]
  },
  {
   "cell_type": "code",
   "execution_count": 108,
   "id": "375cf867",
   "metadata": {},
   "outputs": [
    {
     "name": "stderr",
     "output_type": "stream",
     "text": [
      "/var/folders/70/wm0y71k12s1ctjpf_x9qf5tw0000gp/T/ipykernel_96742/1895637655.py:2: FutureWarning: The default of observed=False is deprecated and will be changed to True in a future version of pandas. Pass observed=False to retain current behavior or observed=True to adopt the future default and silence this warning.\n",
      "  dataWithPriorExp.groupby(['_experience_category'])['_interest_change'].agg('mean').plot(kind='barh', ax=ax)\n"
     ]
    },
    {
     "data": {
      "text/plain": [
       "Text(0, 0.5, '')"
      ]
     },
     "execution_count": 108,
     "metadata": {},
     "output_type": "execute_result"
    },
    {
     "data": {
      "image/png": "[encoded data removed]",
      "text/plain": [
       "<Figure size 640x480 with 1 Axes>"
      ]
     },
     "metadata": {},
     "output_type": "display_data"
    }
   ],
   "source": [
    "fig, ax = plt.subplots()\n",
    "dataWithPriorExp.groupby(['_experience_category'])['_interest_change'].agg('mean').plot(kind='barh', ax=ax)\n",
    "ax.set_xlabel('')\n",
    "ax.set_ylabel('')"
   ]
  },
  {
   "cell_type": "code",
   "execution_count": 109,
   "id": "17e506f9",
   "metadata": {},
   "outputs": [],
   "source": [
    "fig.savefig('interestChangeByExperienceCategory.png', transparent=True, dpi=300, bbox_inches='tight')"
   ]
  },
  {
   "cell_type": "markdown",
   "id": "ad38c476",
   "metadata": {},
   "source": [
    "#### Knowledge Gain v/s workshop_duration"
   ]
  },
  {
   "cell_type": "code",
   "execution_count": 130,
   "id": "bb040276",
   "metadata": {},
   "outputs": [
    {
     "data": {
      "text/plain": [
       "Text(0, 0.5, '')"
      ]
     },
     "execution_count": 130,
     "metadata": {},
     "output_type": "execute_result"
    },
    {
     "data": {
      "image/png": "[encoded data removed]",
      "text/plain": [
       "<Figure size 640x480 with 1 Axes>"
      ]
     },
     "metadata": {},
     "output_type": "display_data"
    }
   ],
   "source": [
    "dataWithKnowledgeGain = data[(~data['knowledge_gain'].isna())]\n",
    "fig, ax = plt.subplots()\n",
    "sns.boxplot(x='workshop_duration', y='knowledge_gain', data=dataWithKnowledgeGain, ax=ax)\n",
    "ax.set_xlabel('')\n",
    "ax.set_ylabel('')"
   ]
  },
  {
   "cell_type": "code",
   "execution_count": 131,
   "id": "7885a536",
   "metadata": {},
   "outputs": [],
   "source": [
    "fig.savefig('knowledgeGainByDuration.png', transparent=True, bbox_inches='tight')"
   ]
  },
  {
   "cell_type": "markdown",
   "id": "13aa05f0",
   "metadata": {},
   "source": [
    "#### Mode v/s Satisfaction"
   ]
  },
  {
   "cell_type": "code",
   "execution_count": 132,
   "id": "bd5f9be6",
   "metadata": {},
   "outputs": [],
   "source": [
    "dataWithSatisfaction = data[(~data['satisfaction'].isna())]"
   ]
  },
  {
   "cell_type": "code",
   "execution_count": 133,
   "id": "05dec906",
   "metadata": {},
   "outputs": [
    {
     "data": {
      "text/plain": [
       "Text(0, 0.5, '')"
      ]
     },
     "execution_count": 133,
     "metadata": {},
     "output_type": "execute_result"
    },
    {
     "data": {
      "image/png": "[encoded data removed]",
      "text/plain": [
       "<Figure size 640x480 with 1 Axes>"
      ]
     },
     "metadata": {},
     "output_type": "display_data"
    }
   ],
   "source": [
    "fig, ax = plt.subplots()\n",
    "sns.boxplot(x='mode', y='satisfaction', data=dataWithSatisfaction, ax=ax)\n",
    "ax.set_xlabel('')\n",
    "ax.set_ylabel('')"
   ]
  },
  {
   "cell_type": "code",
   "execution_count": 134,
   "id": "5aede921",
   "metadata": {},
   "outputs": [],
   "source": [
    "fig.savefig('SatisfactionByMode.png', transparent=True, bbox_inches='tight')"
   ]
  },
  {
   "cell_type": "code",
   "execution_count": 135,
   "id": "d74a7045",
   "metadata": {},
   "outputs": [
    {
     "data": {
      "text/html": [
       "<div>\n",
       "<style scoped>\n",
       "    .dataframe tbody tr th:only-of-type {\n",
       "        vertical-align: middle;\n",
       "    }\n",
       "\n",
       "    .dataframe tbody tr th {\n",
       "        vertical-align: top;\n",
       "    }\n",
       "\n",
       "    .dataframe thead th {\n",
       "        text-align: right;\n",
       "    }\n",
       "</style>\n",
       "<table border=\"1\" class=\"dataframe\">\n",
       "  <thead>\n",
       "    <tr style=\"text-align: right;\">\n",
       "      <th></th>\n",
       "      <th>mean</th>\n",
       "    </tr>\n",
       "    <tr>\n",
       "      <th>mode</th>\n",
       "      <th></th>\n",
       "    </tr>\n",
       "  </thead>\n",
       "  <tbody>\n",
       "    <tr>\n",
       "      <th>Offline</th>\n",
       "      <td>0.631232</td>\n",
       "    </tr>\n",
       "    <tr>\n",
       "      <th>Online</th>\n",
       "      <td>0.647364</td>\n",
       "    </tr>\n",
       "  </tbody>\n",
       "</table>\n",
       "</div>"
      ],
      "text/plain": [
       "             mean\n",
       "mode             \n",
       "Offline  0.631232\n",
       "Online   0.647364"
      ]
     },
     "execution_count": 135,
     "metadata": {},
     "output_type": "execute_result"
    }
   ],
   "source": [
    "dataWithSatisfaction.groupby(['mode'])['satisfaction'].agg(['mean'])"
   ]
  },
  {
   "cell_type": "code",
   "execution_count": 136,
   "id": "be7d3f1f",
   "metadata": {},
   "outputs": [
    {
     "data": {
      "text/plain": [
       "np.float64(0.15764595825591685)"
      ]
     },
     "execution_count": 136,
     "metadata": {},
     "output_type": "execute_result"
    }
   ],
   "source": [
    "dataWithSatisfaction\\\n",
    "    .query('mode == \"Offline\"')['satisfaction'].std()"
   ]
  },
  {
   "cell_type": "code",
   "execution_count": 137,
   "id": "45b4996d",
   "metadata": {},
   "outputs": [
    {
     "data": {
      "text/plain": [
       "array(['Online', 'Offline'], dtype=object)"
      ]
     },
     "execution_count": 137,
     "metadata": {},
     "output_type": "execute_result"
    }
   ],
   "source": [
    "data['mode'].unique()"
   ]
  },
  {
   "cell_type": "code",
   "execution_count": 138,
   "id": "2837a21a",
   "metadata": {},
   "outputs": [
    {
     "data": {
      "text/plain": [
       "0                  name\n",
       "1                gender\n",
       "2                 class\n",
       "3                  mode\n",
       "4         workshop_name\n",
       "5     workshop_duration\n",
       "6       interest_before\n",
       "7        interest_after\n",
       "8            highlights\n",
       "9           suggestions\n",
       "10         satisfaction\n",
       "11         expectations\n",
       "12     prior_experience\n",
       "13       knowledge_gain\n",
       "dtype: object"
      ]
     },
     "execution_count": 138,
     "metadata": {},
     "output_type": "execute_result"
    }
   ],
   "source": [
    "pd.Series(data.columns)"
   ]
  },
  {
   "cell_type": "markdown",
   "id": "723837ca",
   "metadata": {},
   "source": [
    "#### interest before by class"
   ]
  },
  {
   "cell_type": "code",
   "execution_count": 178,
   "id": "e9ab562f",
   "metadata": {},
   "outputs": [
    {
     "data": {
      "image/png": "[encoded data removed]",
      "text/plain": [
       "<Figure size 640x480 with 1 Axes>"
      ]
     },
     "metadata": {},
     "output_type": "display_data"
    }
   ],
   "source": [
    "fig, ax = plt.subplots()\n",
    "dataWithInterestVals.groupby(['class'])['interest_before'].agg(['mean']).sort_values('mean').plot(kind='barh', ax=ax)\n",
    "ax.set_xlabel('')\n",
    "ax.set_ylabel('')\n",
    "plt.legend().remove()"
   ]
  },
  {
   "cell_type": "code",
   "execution_count": 179,
   "id": "783532b6",
   "metadata": {},
   "outputs": [],
   "source": [
    "fig.savefig('interestBeforeByClass.png', transparent=True, bbox_inches='tight')"
   ]
  },
  {
   "cell_type": "markdown",
   "id": "d96645a3",
   "metadata": {},
   "source": [
    "#### Getting Highlights"
   ]
  },
  {
   "cell_type": "code",
   "execution_count": 142,
   "id": "a76a15aa",
   "metadata": {},
   "outputs": [],
   "source": [
    "dataWithHighlights = data[(~data['highlights'].isna())]"
   ]
  },
  {
   "cell_type": "code",
   "execution_count": 143,
   "id": "1671e804",
   "metadata": {},
   "outputs": [
    {
     "name": "stdout",
     "output_type": "stream",
     "text": [
      "basic things about robotics \n",
      "General knowledge about, robotics and coding, I guess! ~! \n",
      "ABOUT THE INTERIOR OF THE ROBOTS \n",
      "binary code \n",
      "using arduino and how to program in a block code \n",
      "HOW TO USE THE CODES \n",
      "Using arduino and ultasonic sensors with programming languages in different features \n",
      "Everything \n",
      "I have learnt many things about robotics which would be useful for my future  \n",
      "using of block coding and Ultra sonic sensor \n",
      "some thing  \n",
      "HARD WORK LEADS TO SUCCESS \n",
      "coding \n",
      "the laws of robots \n",
      "everything which is useful in this \n",
      "everything i learnt today \n",
      "BLOCK CODING AND DATA TYPES, BINARY CODE \n",
      "normal level of robotics \n",
      "normal level robotics \n",
      "Everthing \n"
     ]
    }
   ],
   "source": [
    "for highlight in list(dataWithHighlights.highlights):\n",
    "    print(highlight)"
   ]
  },
  {
   "cell_type": "code",
   "execution_count": 144,
   "id": "d1710263",
   "metadata": {},
   "outputs": [
    {
     "data": {
      "text/plain": [
       "41                         basic things about robotics \n",
       "42    General knowledge about, robotics and coding, ...\n",
       "43                    ABOUT THE INTERIOR OF THE ROBOTS \n",
       "44                                         binary code \n",
       "45    using arduino and how to program in a block code \n",
       "46                                HOW TO USE THE CODES \n",
       "47    Using arduino and ultasonic sensors with progr...\n",
       "48                                          Everything \n",
       "49    I have learnt many things about robotics which...\n",
       "50        using of block coding and Ultra sonic sensor \n",
       "51                                         some thing  \n",
       "52                          HARD WORK LEADS TO SUCCESS \n",
       "53                                              coding \n",
       "54                                  the laws of robots \n",
       "55                  everything which is useful in this \n",
       "56                           everything i learnt today \n",
       "57            BLOCK CODING AND DATA TYPES, BINARY CODE \n",
       "58                            normal level of robotics \n",
       "59                               normal level robotics \n",
       "60                                           Everthing \n",
       "Name: highlights, dtype: object"
      ]
     },
     "execution_count": 144,
     "metadata": {},
     "output_type": "execute_result"
    }
   ],
   "source": [
    "dataWithHighlights.highlights"
   ]
  },
  {
   "cell_type": "code",
   "execution_count": 145,
   "id": "de469619",
   "metadata": {},
   "outputs": [
    {
     "data": {
      "text/html": [
       "<div>\n",
       "<style scoped>\n",
       "    .dataframe tbody tr th:only-of-type {\n",
       "        vertical-align: middle;\n",
       "    }\n",
       "\n",
       "    .dataframe tbody tr th {\n",
       "        vertical-align: top;\n",
       "    }\n",
       "\n",
       "    .dataframe thead th {\n",
       "        text-align: right;\n",
       "    }\n",
       "</style>\n",
       "<table border=\"1\" class=\"dataframe\">\n",
       "  <thead>\n",
       "    <tr style=\"text-align: right;\">\n",
       "      <th></th>\n",
       "      <th>mean</th>\n",
       "    </tr>\n",
       "    <tr>\n",
       "      <th>workshop_name</th>\n",
       "      <th></th>\n",
       "    </tr>\n",
       "  </thead>\n",
       "  <tbody>\n",
       "    <tr>\n",
       "      <th>2 Day learning surveys 2024-2025 American center</th>\n",
       "      <td>0.866207</td>\n",
       "    </tr>\n",
       "    <tr>\n",
       "      <th>3 days  Robotics Trial Workshop -St. Patrick's School 2024</th>\n",
       "      <td>0.880375</td>\n",
       "    </tr>\n",
       "  </tbody>\n",
       "</table>\n",
       "</div>"
      ],
      "text/plain": [
       "                                                        mean\n",
       "workshop_name                                               \n",
       "2 Day learning surveys 2024-2025 American center    0.866207\n",
       "3 days  Robotics Trial Workshop -St. Patrick's ...  0.880375"
      ]
     },
     "execution_count": 145,
     "metadata": {},
     "output_type": "execute_result"
    }
   ],
   "source": [
    "dataWithInterestVals.groupby(['workshop_name'])['interest_after'].agg(['mean'])"
   ]
  },
  {
   "cell_type": "code",
   "execution_count": 174,
   "id": "8697e835",
   "metadata": {},
   "outputs": [
    {
     "data": {
      "image/png": "[encoded data removed]",
      "text/plain": [
       "<Figure size 640x480 with 1 Axes>"
      ]
     },
     "metadata": {},
     "output_type": "display_data"
    }
   ],
   "source": [
    "dataWithGender = data[(~data['gender'].isna())]\n",
    "x = dataWithGender.gender.unique()\n",
    "y = dataWithGender.query('gender==\"male\"')['gender'].count(), dataWithGender.query('gender==\"female\"')['gender'].count()\n",
    "\n",
    "fig, ax = plt.subplots()\n",
    "ax = plt.pie(y, \n",
    "        colors=['#d6ff3fff', '#00000000'],\n",
    "        labels=['male', 'female'],\n",
    "        wedgeprops={\"edgecolor\": \"#d6ff3fff\", \"linewidth\": 2},\n",
    "        textprops={'color': 'white', 'weight': 'bold'})"
   ]
  },
  {
   "cell_type": "code",
   "execution_count": 175,
   "id": "01f964ee",
   "metadata": {},
   "outputs": [],
   "source": [
    "fig.savefig('GenderRatio.png', transparent=True, dpi=300)"
   ]
  },
  {
   "cell_type": "code",
   "execution_count": null,
   "id": "de0b7f39",
   "metadata": {},
   "outputs": [],
   "source": [
    "dataWithInterestVals.query()"
   ]
  },
  {
   "cell_type": "markdown",
   "id": "5e32baf5",
   "metadata": {},
   "source": [
    "#### Interest After v/s class"
   ]
  },
  {
   "cell_type": "code",
   "execution_count": 184,
   "id": "a16187b6",
   "metadata": {},
   "outputs": [
    {
     "data": {
      "image/png": "[encoded data removed]",
      "text/plain": [
       "<Figure size 640x480 with 1 Axes>"
      ]
     },
     "metadata": {},
     "output_type": "display_data"
    }
   ],
   "source": [
    "fig, ax = plt.subplots()\n",
    "dataWithInterestVals.groupby(['class'])['interest_after'].agg(['mean']).sort_values('mean').plot(kind='barh', ax=ax)\n",
    "ax.set_xlabel('')\n",
    "ax.set_ylabel('')\n",
    "plt.legend().remove()"
   ]
  },
  {
   "cell_type": "code",
   "execution_count": 185,
   "id": "a5f1bc2a",
   "metadata": {},
   "outputs": [],
   "source": [
    "fig.savefig('interestAfterByClass.png', transparent=True, bbox_inches='tight')"
   ]
  },
  {
   "cell_type": "code",
   "execution_count": 187,
   "id": "af028ab7",
   "metadata": {},
   "outputs": [
    {
     "data": {
      "text/plain": [
       "<Axes: ylabel='class'>"
      ]
     },
     "execution_count": 187,
     "metadata": {},
     "output_type": "execute_result"
    },
    {
     "data": {
      "image/png": "[encoded data removed]",
      "text/plain": [
       "<Figure size 640x480 with 1 Axes>"
      ]
     },
     "metadata": {},
     "output_type": "display_data"
    }
   ],
   "source": [
    "dataWithKnowledgeGain.groupby(['class'])['knowledge_gain'].agg(['mean']).plot(kind='barh')"
   ]
  },
  {
   "cell_type": "code",
   "execution_count": 196,
   "id": "d3d223aa",
   "metadata": {},
   "outputs": [],
   "source": [
    "day3knowGainMedian = dataWithKnowledgeGain.query('workshop_duration == \"3 day\"')['knowledge_gain'].median()\n",
    "hour3knowGainMedian = dataWithKnowledgeGain.query('workshop_duration == \"3 hour\"')['knowledge_gain'].median()\n",
    "day2knowGainMedian = dataWithKnowledgeGain.query('workshop_duration == \"2 day\"')['knowledge_gain'].median()"
   ]
  },
  {
   "cell_type": "code",
   "execution_count": 197,
   "id": "d3ac4c23",
   "metadata": {},
   "outputs": [
    {
     "data": {
      "text/plain": [
       "np.float64(4.7071467083229885)"
      ]
     },
     "execution_count": 197,
     "metadata": {},
     "output_type": "execute_result"
    }
   ],
   "source": [
    "((day3knowGainMedian - hour3knowGainMedian)/hour3knowGainMedian) *100"
   ]
  },
  {
   "cell_type": "code",
   "execution_count": 198,
   "id": "3d7fa77c",
   "metadata": {},
   "outputs": [
    {
     "data": {
      "text/plain": [
       "0                  name\n",
       "1                gender\n",
       "2                 class\n",
       "3                  mode\n",
       "4         workshop_name\n",
       "5     workshop_duration\n",
       "6       interest_before\n",
       "7        interest_after\n",
       "8            highlights\n",
       "9           suggestions\n",
       "10         satisfaction\n",
       "11         expectations\n",
       "12     prior_experience\n",
       "13       knowledge_gain\n",
       "dtype: object"
      ]
     },
     "execution_count": 198,
     "metadata": {},
     "output_type": "execute_result"
    }
   ],
   "source": [
    "pd.Series(data.columns)"
   ]
  },
  {
   "cell_type": "code",
   "execution_count": 203,
   "id": "00a2a55c",
   "metadata": {},
   "outputs": [],
   "source": [
    "data['_workshop_identifier'] = data.workshop_name\\\n",
    "    .str.replace('1 hour Online intro to Robotics workshop-pilot', '1 Hour Online Pilot')\\\n",
    "    .str.replace('10 day Summercamp Anna library Feedback', 'Anna Library Summer Camp')\\\n",
    "    .str.replace('2 Day learning surveys 2024-2025 American center', 'American Center')\\\n",
    "    .str.replace('3 days  Robotics Trial Workshop -St. Patrick\\'s School 2024', 'St. Patrick\\'s')\\\n",
    "    .str.replace('3 hour 2023-2024 Robotics workshop', '2023-24 3 Hour')\\\n",
    "    .str.replace('3 hours Open Invite 22nd April 2024 Robotics', 'Open Invite April')\\\n",
    "    "
   ]
  },
  {
   "cell_type": "code",
   "execution_count": 210,
   "id": "19582730",
   "metadata": {},
   "outputs": [
    {
     "data": {
      "image/png": "[encoded data removed]",
      "text/plain": [
       "<Figure size 640x480 with 1 Axes>"
      ]
     },
     "metadata": {},
     "output_type": "display_data"
    }
   ],
   "source": [
    "fig, ax = plt.subplots()\n",
    "data\\\n",
    "    .groupby(['_workshop_identifier'])['satisfaction'].agg(['mean']).sort_values('mean').plot(kind='barh', ax = ax)\n",
    "ax.set_xlabel('')\n",
    "ax.set_ylabel('')\n",
    "ax.legend().remove()"
   ]
  },
  {
   "cell_type": "code",
   "execution_count": 212,
   "id": "7b7d8d53",
   "metadata": {},
   "outputs": [],
   "source": [
    "fig.savefig('satisfactionByWorkshop.png', transparent=True, bbox_inches='tight')"
   ]
  },
  {
   "cell_type": "code",
   "execution_count": null,
   "id": "e4692428",
   "metadata": {},
   "outputs": [],
   "source": []
  }
 ],
 "metadata": {
  "kernelspec": {
   "display_name": "venv",
   "language": "python",
   "name": "python3"
  },
  "language_info": {
   "codemirror_mode": {
    "name": "ipython",
    "version": 3
   },
   "file_extension": ".py",
   "mimetype": "text/x-python",
   "name": "python",
   "nbconvert_exporter": "python",
   "pygments_lexer": "ipython3",
   "version": "3.13.6"
  }
 },
 "nbformat": 4,
 "nbformat_minor": 5
}
